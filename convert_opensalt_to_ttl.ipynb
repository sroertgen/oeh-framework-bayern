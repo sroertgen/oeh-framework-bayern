{
 "cells": [
  {
   "cell_type": "code",
   "execution_count": 1,
   "metadata": {
    "collapsed": false,
    "jupyter": {
     "outputs_hidden": false
    }
   },
   "outputs": [],
   "source": [
    "import pandas as pd\n",
    "from pathlib import Path\n",
    "from rdflib import Graph, Literal, Namespace, RDF, URIRef\n",
    "from rdflib.namespace import SKOS, DCTERMS\n",
    "\n",
    "# path to curriculum data\n",
    "curriculum_xlsx = Path('./data/Lerhplan_all.xlsx')\n",
    "curriculum_txt = Path('./data/curriculum_all_txt')\n",
    "curriculum_csv = Path('./data/curriculum_all_csv')\n",
    "\n",
    "# create Node Class\n",
    "class Node:\n",
    "    def __init__(self, **kwargs):\n",
    "        self.id = kwargs.get('_id')\n",
    "        self.prefLabel = kwargs.get('prefLabel')\n",
    "        self.description = kwargs.get('description')\n",
    "        self.educationalLevel = kwargs.get('educationalLevel')\n",
    "        self.educationalContext = kwargs.get('educationalContext')\n",
    "        self.notation = kwargs.get('notation')\n",
    "        self.level = kwargs.get('level')\n",
    "        \n",
    "        self.children = []\n",
    "\n",
    "    def __repr__(self):\n",
    "        return self.prefLabel"
   ]
  },
  {
   "cell_type": "code",
   "execution_count": 2,
   "metadata": {
    "collapsed": false,
    "jupyter": {
     "outputs_hidden": false
    }
   },
   "outputs": [],
   "source": [
    "# read in xlsx to df\n",
    "df = pd.read_excel(curriculum_xlsx, 'CF Item', index_col=None)"
   ]
  },
  {
   "cell_type": "code",
   "execution_count": 3,
   "metadata": {
    "collapsed": false,
    "jupyter": {
     "outputs_hidden": false
    }
   },
   "outputs": [],
   "source": [
    "# split human coding scheme column into multiple columns\n",
    "df[['notation', 'educationalContext', 'educationalLevel', 'smartLevel']] = df['humanCodingScheme'].str.split('_', expand=True)"
   ]
  },
  {
   "cell_type": "code",
   "execution_count": 4,
   "metadata": {
    "collapsed": false,
    "jupyter": {
     "outputs_hidden": false
    }
   },
   "outputs": [],
   "source": [
    "# split fullStatement in prefLabel and description\n",
    "df[['prefLabel', 'description']] = df['fullStatement'].str.split('-', n=1, expand=True)"
   ]
  },
  {
   "cell_type": "code",
   "execution_count": 5,
   "metadata": {
    "collapsed": false,
    "jupyter": {
     "outputs_hidden": false
    }
   },
   "outputs": [],
   "source": [
    "# split humanCodingScheme in notation, educationalContext, educationalLevel\n",
    "df[['notation', 'educationalContext', 'educationalLevel', _]] = df['humanCodingScheme'].str.split('_', n=3, expand=True)"
   ]
  },
  {
   "cell_type": "code",
   "execution_count": 6,
   "metadata": {
    "collapsed": false,
    "jupyter": {
     "outputs_hidden": false
    }
   },
   "outputs": [],
   "source": [
    "# add an level attribute\n",
    "try:\n",
    "    df.insert(loc=0,column='level', value=0)\n",
    "except:\n",
    "    pass\n"
   ]
  },
  {
   "cell_type": "code",
   "execution_count": 7,
   "metadata": {
    "collapsed": false,
    "jupyter": {
     "outputs_hidden": false
    }
   },
   "outputs": [],
   "source": [
    "df[['level']] = df['smartLevel'].apply(lambda x: x.count('.'))"
   ]
  },
  {
   "cell_type": "code",
   "execution_count": 8,
   "metadata": {
    "collapsed": false,
    "jupyter": {
     "outputs_hidden": false
    }
   },
   "outputs": [],
   "source": [
    "# convert df to list of dicts\n",
    "data = df.to_dict('records')"
   ]
  },
  {
   "cell_type": "code",
   "execution_count": 19,
   "metadata": {
    "collapsed": false,
    "jupyter": {
     "outputs_hidden": false
    }
   },
   "outputs": [],
   "source": [
    "root = Node()\n",
    "\n",
    "try:\n",
    "    for record in data:\n",
    "        last = root\n",
    "        for _ in range(record['level']):\n",
    "            last = last.children[-1]\n",
    "        if record['level'] == 0:\n",
    "            last.children.append(Node(\n",
    "                _id = record['identifier'], \n",
    "                prefLabel = record['prefLabel'], \n",
    "                notation = record['notation'],\n",
    "                description = record['description'],\n",
    "                educationalLevel = record['educationalLevel'],\n",
    "                educationalContext = record['educationalContext'],\n",
    "                level = record['level']\n",
    "            ))\n",
    "        else:\n",
    "            last.children.append(Node(\n",
    "                _id = record['identifier'], \n",
    "                prefLabel = record['prefLabel'], \n",
    "                notation = record['notation'],\n",
    "                description = record['description'],\n",
    "                level = record['level']\n",
    "            ))\n",
    "except IndexError:\n",
    "    pass"
   ]
  },
  {
   "cell_type": "code",
   "execution_count": 39,
   "metadata": {
    "collapsed": false,
    "jupyter": {
     "outputs_hidden": false
    }
   },
   "outputs": [
    {
     "data": {
      "text/plain": [
       "'grundschule'"
      ]
     },
     "execution_count": 39,
     "metadata": {},
     "output_type": "execute_result"
    }
   ],
   "source": [
    "root.children[0].educationalContext"
   ]
  },
  {
   "cell_type": "code",
   "execution_count": 16,
   "metadata": {
    "collapsed": false,
    "jupyter": {
     "outputs_hidden": false,
     "source_hidden": true
    }
   },
   "outputs": [],
   "source": [
    " # if not root node don't append educationalContext and educationalLevel to children\n",
    "# because these properties are inherited and can be reasoned from the\n",
    "# parent property\n",
    "def delete_from_children(root):\n",
    "    for child in root.children:\n",
    "        if child.level != 0:\n",
    "            try:\n",
    "                del(\n",
    "                    child.educationalContext, \n",
    "                    child.educationalLevel\n",
    "                )\n",
    "            except:\n",
    "                pass\n",
    "        delete_from_children(child)"
   ]
  },
  {
   "cell_type": "code",
   "execution_count": null,
   "metadata": {
    "collapsed": false,
    "jupyter": {
     "outputs_hidden": false
    }
   },
   "outputs": [],
   "source": [
    "def print_tree(root, depth=0):\n",
    "    for child in root.children:\n",
    "        print('  ' * depth + '%r' % child)\n",
    "        print_tree(child, depth + 1)"
   ]
  },
  {
   "cell_type": "code",
   "execution_count": 18,
   "metadata": {
    "collapsed": false,
    "jupyter": {
     "outputs_hidden": false
    }
   },
   "outputs": [],
   "source": [
    "# print(print_tree(root))"
   ]
  },
  {
   "cell_type": "code",
   "execution_count": null,
   "metadata": {
    "collapsed": false,
    "jupyter": {
     "outputs_hidden": false
    }
   },
   "outputs": [],
   "source": [
    "# TODO add relations?\n",
    "\n",
    "name_systematik = 'curriculumd_bayern'\n",
    "filename = Path.cwd('data' / 'curriculum_bayern.ttl')\n",
    "g = Graph()\n",
    "n = Namespace(\"https://example-perma-id/\" + name_systematik + \"/\")\n",
    "\n",
    "category = URIRef(n)\n",
    "\n",
    "title = Literal(name_systematik, lang=\"de\")\n",
    "description = Literal(name_systematik, lang=\"de\")\n",
    "creator = Literal(\"<https://creator.com>\")\n",
    "\n",
    "# Add triples using store's add method.\n",
    "g.add( (category, RDF.type, SKOS.ConceptScheme) )\n",
    "g.add( (category, DCTERMS.title, title) )\n",
    "g.add( (category, DCTERMS.description, description) )\n",
    "g.add( (category, DCTERMS.creator, creator) )\n",
    "\n",
    "# define relevant predicates\n",
    "\n",
    "narrower = 'http://www.w3.org/2004/02/skos/core#narrower'\n",
    "broader = 'http://www.w3.org/2004/02/skos/core#broader'\n",
    "topConceptOf = 'http://www.w3.org/2004/02/skos/core#topConceptOf'\n",
    "note = 'http://www.w3.org/2004/02/skos/core#note'\n",
    "\n",
    "\n",
    "def add_items(root):\n",
    "    for item in root.children:\n",
    "\n",
    "        node = n + URIRef(item.id)\n",
    "        node_prefLabel = Literal(item.prefLabel, lang=\"de\")\n",
    "        node_note = Literal(item.note, lang=\"de\")\n",
    "\n",
    "        g.add( (node, RDF.type, SKOS.Concept) )\n",
    "        g.add( (node, SKOS.prefLabel, node_prefLabel))\n",
    "        g.add( (node, SKOS.note, node_note))\n",
    "        g.add( (node, SKOS.inScheme, category))\n",
    "        \n",
    "        if item.children != []:\n",
    "            for child in item.children:\n",
    "                g.add( (node, SKOS.narrower, n + URIRef(child.id)))\n",
    "                g.add( (n + URIRef(child.id), SKOS.broader, node))\n",
    "\n",
    "        add_items(item)\n",
    "            \n",
    "add_items(root)\n",
    "\n",
    "for child in root.children:\n",
    "    node = n + URIRef(child.id)\n",
    "    g.add( (category, SKOS.hasTopConcept, node))\n",
    "    g.add( (node, SKOS.topConceptOf, category ))\n",
    "\n",
    "# Bind a few prefix, namespace pairs for more readable output\n",
    "g.bind(\"dct\", DCTERMS)\n",
    "g.bind(\"skos\", SKOS)\n",
    "\n",
    "output = g.serialize(format='turtle', base=n).decode(\"utf-8\")\n",
    "\n",
    "with open(filename + '.ttl', 'w') as f:\n",
    "    f.write(output)\n",
    "    f.close()"
   ]
  },
  {
   "cell_type": "code",
   "execution_count": null,
   "metadata": {
    "collapsed": false,
    "jupyter": {
     "outputs_hidden": false
    }
   },
   "outputs": [],
   "source": [
    "df.head(50)"
   ]
  },
  {
   "cell_type": "code",
   "execution_count": null,
   "metadata": {
    "collapsed": false,
    "jupyter": {
     "outputs_hidden": false
    }
   },
   "outputs": [],
   "source": []
  }
 ],
 "metadata": {
  "kernelspec": {
   "display_name": "rdf",
   "language": "python",
   "name": "rdf"
  },
  "language_info": {
   "codemirror_mode": {
    "name": "ipython",
    "version": 3
   },
   "file_extension": ".py",
   "mimetype": "text/x-python",
   "name": "python",
   "nbconvert_exporter": "python",
   "pygments_lexer": "ipython3",
   "version": "3.7.6"
  },
  "name": "convert_opensalt_to_ttl.ipynb"
 },
 "nbformat": 4,
 "nbformat_minor": 4
}
